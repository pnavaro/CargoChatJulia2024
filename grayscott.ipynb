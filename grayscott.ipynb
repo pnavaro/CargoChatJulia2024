{
 "cells": [
  {
   "cell_type": "code",
   "execution_count": 1,
   "id": "fb74e5f3",
   "metadata": {},
   "outputs": [
    {
     "name": "stdout",
     "output_type": "stream",
     "text": [
      "Number of threads 8\n"
     ]
    }
   ],
   "source": [
    "using Plots\n",
    "using .Threads\n",
    "\n",
    "println(\"Number of threads $(nthreads())\")"
   ]
  },
  {
   "cell_type": "code",
   "execution_count": 2,
   "id": "f44483b4",
   "metadata": {},
   "outputs": [
    {
     "data": {
      "text/plain": [
       "8-element Vector{Int64}:\n",
       " 1\n",
       " 5\n",
       " 3\n",
       " 6\n",
       " 4\n",
       " 8\n",
       " 7\n",
       " 2"
      ]
     },
     "execution_count": 2,
     "metadata": {},
     "output_type": "execute_result"
    }
   ],
   "source": [
    "a = zeros(Int, 8)\n",
    "\n",
    "@threads for i = eachindex(a)\n",
    "    a[i] = threadid()\n",
    "end\n",
    "\n",
    "a"
   ]
  },
  {
   "cell_type": "markdown",
   "id": "c37a3f19",
   "metadata": {},
   "source": [
    "# Gray-Scott system\n",
    "\n",
    "$$\n",
    "\\begin{aligned}\n",
    "\\frac{\\partial u}{\\partial t} & = D\\_u \\Delta u - uv^2 + F(1-u) \\\\\\\\ \n",
    "\\frac{\\partial v}{\\partial t} & = D\\_v \\Delta v + uv^2 - (F+k)v \n",
    "\\end{aligned} \n",
    "$$\n",
    "\n",
    "## Laplacian \n",
    "\n",
    "$$\n",
    "\\Delta u\\_{i,j} \\approx u\\_{i,j-1} + u\\_{i-1,j} -4u\\_{i,j} + u\\_{i+1, j} + u\\_{i, j+1} \n",
    "$$\n",
    "\n",
    "- Euler scheme is used to integrate the time derivative.  \n",
    "\n",
    "## Initial conditions\n",
    "\n",
    "- ``u`` is 1 everywhere and ``v`` is 0 in the domain except in a square zone where ``v = 0.25`` and ``u = 0.5``. This square located in the center of the domain is  $[0, 1]\\times[0,1]$ with a size of ``0.2``."
   ]
  },
  {
   "cell_type": "code",
   "execution_count": 3,
   "id": "eba54177",
   "metadata": {},
   "outputs": [
    {
     "data": {
      "text/plain": [
       "init (generic function with 1 method)"
      ]
     },
     "execution_count": 3,
     "metadata": {},
     "output_type": "execute_result"
    }
   ],
   "source": [
    "const Dᵤ = .1\n",
    "const Dᵥ = .05\n",
    "const F = 0.0545\n",
    "const k = 0.062\n",
    "\n",
    "function init(n)\n",
    " \n",
    "    u = ones((n+2,n+2))\n",
    "    v = zeros((n+2,n+2))\n",
    "    \n",
    "    x, y = LinRange(0, 1, n+2), LinRange(0, 1, n+2)\n",
    "\n",
    "    for j in eachindex(y), i in eachindex(x)\n",
    "        if (0.4<x[i]) && (x[i]<0.6) && (0.4<y[j]) && (y[j]<0.6)\n",
    "            u[i,j] = 0.50\n",
    "            v[i,j] = 0.25\n",
    "        end\n",
    "    end\n",
    "        \n",
    "    return u, v\n",
    "    \n",
    "end"
   ]
  },
  {
   "cell_type": "markdown",
   "id": "ad495f02",
   "metadata": {},
   "source": [
    "## Serial function"
   ]
  },
  {
   "cell_type": "code",
   "execution_count": 4,
   "id": "7a8c2e3b",
   "metadata": {},
   "outputs": [
    {
     "data": {
      "text/plain": [
       "grayscott! (generic function with 1 method)"
      ]
     },
     "execution_count": 4,
     "metadata": {},
     "output_type": "execute_result"
    }
   ],
   "source": [
    "function grayscott!( u, v, Δu, Δv)\n",
    "\n",
    "    for c = axes(Δu, 2)\n",
    "        c1 = c + 1\n",
    "        c2 = c + 2\n",
    "        for r = axes(Δu, 1)\n",
    "            r1 = r + 1\n",
    "            r2 = r + 2\n",
    "            Δu[r,c] = u[r1,c2] + u[r1,c] + u[r2,c1] + u[r,c1] - 4*u[r1,c1]\n",
    "            Δv[r,c] = v[r1,c2] + v[r1,c] + v[r2,c1] + v[r,c1] - 4*v[r1,c1]\n",
    "        end\n",
    "    end\n",
    "\n",
    "    for c = axes(Δu, 2)\n",
    "        c1 = c + 1\n",
    "        for r = axes(Δu, 1)\n",
    "            r1 = r + 1  \n",
    "            uvv = u[r1,c1]*v[r1,c1]*v[r1,c1]\n",
    "            u[r1,c1] +=  Dᵤ * Δu[r,c] - uvv + F*(1 - u[r1,c1])\n",
    "            v[r1,c1] +=  Dᵥ * Δv[r,c] + uvv - (F + k)*v[r1,c1]\n",
    "        end\n",
    "    end\n",
    "\n",
    "end"
   ]
  },
  {
   "cell_type": "code",
   "execution_count": 5,
   "id": "081d2138",
   "metadata": {},
   "outputs": [
    {
     "name": "stderr",
     "output_type": "stream",
     "text": [
      "GKS: libtiff.so.6: cannot open shared object file: No such file or directory\n",
      "Output file #0 does not contain any stream\n"
     ]
    },
    {
     "ename": "LoadError",
     "evalue": "failed process: Process(`\u001b[4m/home/pnavaro/.julia/artifacts/5b83972689fb7dea5e89326f1c0ba60d68e962fb/bin/ffmpeg\u001b[24m \u001b[4m-v\u001b[24m \u001b[4m16\u001b[24m \u001b[4m-i\u001b[24m \u001b[4m/tmp/jl_U4Mn6O/%06d.png\u001b[24m \u001b[4m-vf\u001b[24m \u001b[4mpalettegen=stats_mode=full\u001b[24m \u001b[4m-y\u001b[24m \u001b[4m/tmp/jl_U4Mn6O/palette.bmp\u001b[24m`, ProcessExited(1)) [1]\n",
     "output_type": "error",
     "traceback": [
      "failed process: Process(`\u001b[4m/home/pnavaro/.julia/artifacts/5b83972689fb7dea5e89326f1c0ba60d68e962fb/bin/ffmpeg\u001b[24m \u001b[4m-v\u001b[24m \u001b[4m16\u001b[24m \u001b[4m-i\u001b[24m \u001b[4m/tmp/jl_U4Mn6O/%06d.png\u001b[24m \u001b[4m-vf\u001b[24m \u001b[4mpalettegen=stats_mode=full\u001b[24m \u001b[4m-y\u001b[24m \u001b[4m/tmp/jl_U4Mn6O/palette.bmp\u001b[24m`, ProcessExited(1)) [1]\n",
      "",
      "Stacktrace:",
      "  [1] pipeline_error",
      "    @ Base ./process.jl:565 [inlined]",
      "  [2] run(::Cmd; wait::Bool)",
      "    @ Base ./process.jl:480",
      "  [3] run",
      "    @ Base ./process.jl:477 [inlined]",
      "  [4] (::FFMPEG.var\"#4#6\"{Cmd})(command_path::String)",
      "    @ FFMPEG ~/.julia/packages/FFMPEG/OUpap/src/FFMPEG.jl:112",
      "  [5] (::JLLWrappers.var\"#2#3\"{FFMPEG.var\"#4#6\"{Cmd}, String})()",
      "    @ JLLWrappers ~/.julia/packages/JLLWrappers/pG9bm/src/runtime.jl:49",
      "  [6] withenv(::JLLWrappers.var\"#2#3\"{FFMPEG.var\"#4#6\"{Cmd}, String}, ::Pair{String, String}, ::Vararg{Pair{String, String}})",
      "    @ Base ./env.jl:256",
      "  [7] withenv_executable_wrapper(f::Function, executable_path::String, PATH::String, LIBPATH::String, adjust_PATH::Bool, adjust_LIBPATH::Bool)",
      "    @ JLLWrappers ~/.julia/packages/JLLWrappers/pG9bm/src/runtime.jl:48",
      "  [8] invokelatest(::Any, ::Any, ::Vararg{Any}; kwargs::@Kwargs{})",
      "    @ Base ./essentials.jl:887",
      "  [9] invokelatest(::Any, ::Any, ::Vararg{Any})",
      "    @ Base ./essentials.jl:884",
      " [10] #ffmpeg#3",
      "    @ ~/.julia/packages/JLLWrappers/pG9bm/src/products/executable_generators.jl:22 [inlined]",
      " [11] ffmpeg",
      "    @ ~/.julia/packages/JLLWrappers/pG9bm/src/products/executable_generators.jl:19 [inlined]",
      " [12] #exe#2",
      "    @ ~/.julia/packages/FFMPEG/OUpap/src/FFMPEG.jl:111 [inlined]",
      " [13] exe",
      "    @ ~/.julia/packages/FFMPEG/OUpap/src/FFMPEG.jl:105 [inlined]",
      " [14] ffmpeg_exe",
      "    @ ~/.julia/packages/FFMPEG/OUpap/src/FFMPEG.jl:123 [inlined]",
      " [15] |>",
      "    @ ./operators.jl:917 [inlined]",
      " [16] buildanimation(anim::Animation, fn::String, is_animated_gif::Bool; fps::Int64, loop::Int64, variable_palette::Bool, verbose::Bool, show_msg::Bool)",
      "    @ Plots ~/.julia/packages/Plots/HyyIK/src/animation.jl:141",
      " [17] buildanimation (repeats 2 times)",
      "    @ Plots ~/.julia/packages/Plots/HyyIK/src/animation.jl:116 [inlined]",
      " [18] #gif#300",
      "    @ Plots ~/.julia/packages/Plots/HyyIK/src/animation.jl:91 [inlined]",
      " [19] top-level scope",
      "    @ In[5]:14"
     ]
    }
   ],
   "source": [
    "function create_animation( grayscott_function, n = 300, maxiter = 10_000)\n",
    "    u, v = init(n)\n",
    "    Δu = zeros(n, n)\n",
    "    Δv = zeros(n, n)\n",
    "    options = (aspect_ratio = :equal, axis = nothing, \n",
    "               legend = :none, framestyle = :none)\n",
    "    anim = @animate for t in 1:maxiter\n",
    "        grayscott_function(u, v, Δu, Δv)\n",
    "        heatmap(u; options...)\n",
    "    end every 100\n",
    "    return anim\n",
    "end\n",
    "anim = create_animation( grayscott!, 300)\n",
    "gif(anim, \"anim.gif\", fps = 15)"
   ]
  },
  {
   "cell_type": "markdown",
   "id": "a287c765",
   "metadata": {},
   "source": [
    "# Simulation"
   ]
  },
  {
   "cell_type": "code",
   "execution_count": 19,
   "id": "b874bbe0",
   "metadata": {
    "lines_to_next_cell": 0
   },
   "outputs": [
    {
     "name": "stdout",
     "output_type": "stream",
     "text": [
      "  9.438768 seconds (8 allocations: 11.023 MiB)\n"
     ]
    }
   ],
   "source": [
    "function run_simulation( grayscott_function, n = 300, maxiter = 10_000)\n",
    "    u, v = init(n)\n",
    "    Δu = zeros(n, n)\n",
    "    Δv = zeros(n, n)\n",
    "    options = (aspect_ratio = :equal, axis = nothing, \n",
    "               legend = :none, framestyle = :none)\n",
    "    for t in 1:maxiter\n",
    "        grayscott_function(u, v, Δu, Δv)\n",
    "        #heatmap(u; options...)\n",
    "    end #every 100\n",
    "    #return anim\n",
    "end\n",
    "run_simulation( grayscott!, 600, 1)\n",
    "@time anim = run_simulation( grayscott!, 600)\n",
    "#gif(anim, \"anim1.gif\", fps = 15)"
   ]
  },
  {
   "cell_type": "code",
   "execution_count": 20,
   "id": "9eb9e1ff",
   "metadata": {},
   "outputs": [
    {
     "name": "stdout",
     "output_type": "stream",
     "text": [
      "  6.001148 seconds (820.13 k allocations: 96.171 MiB, 0.43% gc time)\n"
     ]
    }
   ],
   "source": [
    "using .Threads\n",
    "\n",
    "function grayscott_threads!( u, v, Δu, Δv)\n",
    "\n",
    "    n = size(Δu,1)\n",
    "\n",
    "    @threads for c = axes(Δu, 2)\n",
    "        c1 = c + 1\n",
    "        c2 = c + 2\n",
    "        for r = axes(Δu, 1)\n",
    "            r1 = r + 1\n",
    "            r2 = r + 2\n",
    "            Δu[r,c] = u[r1,c2] + u[r1,c] + u[r2,c1] + u[r,c1] - 4*u[r1,c1]\n",
    "            Δv[r,c] = v[r1,c2] + v[r1,c] + v[r2,c1] + v[r,c1] - 4*v[r1,c1]\n",
    "        end\n",
    "    end\n",
    "\n",
    "    @threads for c = axes(Δu, 2)\n",
    "        c1 = c + 1\n",
    "        for r = axes(Δu, 1)\n",
    "            r1 = r + 1  \n",
    "            uvv = u[r1,c1]*v[r1,c1]*v[r1,c1]\n",
    "            u[r1,c1] +=  Dᵤ * Δu[r,c] - uvv + F*(1 - u[r1,c1])\n",
    "            v[r1,c1] +=  Dᵥ * Δv[r,c] + uvv - (F + k)*v[r1,c1]\n",
    "        end\n",
    "    end\n",
    "\n",
    "end\n",
    "run_simulation( grayscott_threads!, 600, 1)\n",
    "@time anim = run_simulation( grayscott_threads!, 600)\n",
    "#gif(anim, \"anim2.gif\", fps = 15)"
   ]
  },
  {
   "cell_type": "markdown",
   "id": "c42d4bcb",
   "metadata": {},
   "source": [
    "## Vectorized version"
   ]
  },
  {
   "cell_type": "code",
   "execution_count": 21,
   "id": "70d1e751",
   "metadata": {},
   "outputs": [
    {
     "name": "stdout",
     "output_type": "stream",
     "text": [
      " 24.706782 seconds (10 allocations: 13.770 MiB)\n"
     ]
    }
   ],
   "source": [
    "function grayscott_vectorized!(u, v, Δu, Δv, uvv)\n",
    "\n",
    "   @views @. begin \n",
    "       Δu =(u[begin:end-2,2:end-1] + u[begin+1:end-1,1:end-2] + u[begin+1:end-1, begin+2:end] \n",
    "          + u[begin+2:end,2:end-1] - 4 * u[begin+1:end-1, begin+1:end-1] )\n",
    "    \n",
    "       Δv = (v[begin:end-2,2:end-1] + v[begin+1:end-1,1:end-2] + v[begin+1:end-1, begin+2:end] \n",
    "          + v[begin+2:end,begin+1:end-1] - 4 * v[begin+1:end-1, begin+1:end-1] )\n",
    "    \n",
    "       uvv = u[begin+1:end-1,begin+1:end-1] * v[begin+1:end-1,begin+1:end-1] * v[begin+1:end-1,begin+1:end-1]\n",
    "    \n",
    "       u[begin+1:end-1,begin+1:end-1] +=  Dᵤ * Δu - uvv + F * (1 - u[begin+1:end-1,begin+1:end-1])\n",
    "    \n",
    "       v[begin+1:end-1,begin+1:end-1] +=  Dᵥ * Δv + uvv - (F + k) * v[begin+1:end-1,begin+1:end-1]\n",
    "   end\n",
    "\n",
    "end\n",
    "\n",
    "function run_simulation_vectorized( n = 300, maxiter = 10_000)\n",
    "    u, v = init(n)\n",
    "    Δu = zeros(n, n)\n",
    "    Δv = zeros(n, n)\n",
    "    uvv = zeros(n, n)\n",
    "    options = (aspect_ratio = :equal, axis = nothing, \n",
    "               legend = :none, framestyle = :none)\n",
    "    # anim = @animate \n",
    "    for t in 1:maxiter\n",
    "        grayscott_vectorized!(u, v, Δu, Δv, uvv)\n",
    "        #heatmap(u; options...)\n",
    "    end #every 100\n",
    "    #return anim\n",
    "end\n",
    "\n",
    "run_simulation_vectorized( 500, 1)\n",
    "@time anim = run_simulation_vectorized( 600)\n",
    "#gif(anim, \"anim3.gif\", fps = 15)"
   ]
  },
  {
   "cell_type": "code",
   "execution_count": null,
   "id": "cf7d1ec7",
   "metadata": {},
   "outputs": [],
   "source": [
    "using CUDA\n",
    "\n",
    "function run_on_gpu( n = 500, maxiter = 10_000)\n",
    "\n",
    "    u0, v0 = init(n)\n",
    "\n",
    "    u = CuArray(u0) # allocates on GPU\n",
    "    v = CuArray(v0)\n",
    "\n",
    "    Δu = CUDA.zeros(n, n)\n",
    "    Δv = CUDA.zeros(n, n)\n",
    "    uvv = CUDA.zeros(n, n)\n",
    "    options = (aspect_ratio = :equal, axis = nothing, \n",
    "               legend = :none, framestyle = :none)\n",
    "    \n",
    "    for t in 1:maxiter\n",
    "    \n",
    "        grayscott_vectorized!(u, v, Δu, Δv, uvv)\n",
    "\n",
    "    end\n",
    "\n",
    "    return Array(u), Array(v)\n",
    "\n",
    "end\n",
    "\n",
    "CUDA.@time u, v  = run_on_gpu( 500)"
   ]
  },
  {
   "cell_type": "code",
   "execution_count": null,
   "id": "38389977",
   "metadata": {},
   "outputs": [],
   "source": []
  }
 ],
 "metadata": {
  "@webio": {
   "lastCommId": null,
   "lastKernelId": null
  },
  "jupytext": {
   "cell_metadata_filter": "-all",
   "main_language": "julia",
   "notebook_metadata_filter": "-all"
  },
  "kernelspec": {
   "display_name": "Julia 1.10.0",
   "language": "julia",
   "name": "julia-1.10"
  },
  "language_info": {
   "file_extension": ".jl",
   "mimetype": "application/julia",
   "name": "julia",
   "version": "1.10.0"
  }
 },
 "nbformat": 4,
 "nbformat_minor": 5
}
