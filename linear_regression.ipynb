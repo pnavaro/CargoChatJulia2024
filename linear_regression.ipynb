{
 "cells": [
  {
   "cell_type": "code",
   "execution_count": 1,
   "id": "b915aa51",
   "metadata": {},
   "outputs": [
    {
     "data": {
      "text/plain": [
       "f (generic function with 1 method)"
      ]
     },
     "execution_count": 1,
     "metadata": {},
     "output_type": "execute_result"
    }
   ],
   "source": [
    "f(x) = x^3 - x"
   ]
  },
  {
   "cell_type": "code",
   "execution_count": 2,
   "id": "37702ac1",
   "metadata": {},
   "outputs": [
    {
     "data": {
      "text/plain": [
       "24"
      ]
     },
     "execution_count": 2,
     "metadata": {},
     "output_type": "execute_result"
    }
   ],
   "source": [
    "f(3)"
   ]
  },
  {
   "cell_type": "code",
   "execution_count": 3,
   "id": "967d6f56",
   "metadata": {},
   "outputs": [
    {
     "name": "stdout",
     "output_type": "stream",
     "text": [
      "\u001b[95mdefine\u001b[39m \u001b[36mi64\u001b[39m \u001b[93m@julia_f_897\u001b[39m\u001b[33m(\u001b[39m\u001b[36mi64\u001b[39m \u001b[95msignext\u001b[39m \u001b[0m%0\u001b[33m)\u001b[39m \u001b[0m#0 \u001b[33m{\u001b[39m\n",
      "\u001b[91mtop:\u001b[39m\n",
      "  \u001b[0m%1 \u001b[0m= \u001b[96m\u001b[1mmul\u001b[22m\u001b[39m \u001b[36mi64\u001b[39m \u001b[0m%0\u001b[0m, \u001b[0m%0\n",
      "  \u001b[0m%2 \u001b[0m= \u001b[96m\u001b[1mmul\u001b[22m\u001b[39m \u001b[36mi64\u001b[39m \u001b[0m%1\u001b[0m, \u001b[0m%0\n",
      "  \u001b[0m%3 \u001b[0m= \u001b[96m\u001b[1msub\u001b[22m\u001b[39m \u001b[36mi64\u001b[39m \u001b[0m%2\u001b[0m, \u001b[0m%0\n",
      "  \u001b[96m\u001b[1mret\u001b[22m\u001b[39m \u001b[36mi64\u001b[39m \u001b[0m%3\n",
      "\u001b[33m}\u001b[39m\n"
     ]
    }
   ],
   "source": [
    "@code_llvm debuginfo = :none f(3)"
   ]
  },
  {
   "cell_type": "code",
   "execution_count": 4,
   "id": "ca5a28c1",
   "metadata": {},
   "outputs": [
    {
     "name": "stdout",
     "output_type": "stream",
     "text": [
      "\u001b[95mdefine\u001b[39m \u001b[36mdouble\u001b[39m \u001b[93m@julia_f_922\u001b[39m\u001b[33m(\u001b[39m\u001b[36mdouble\u001b[39m \u001b[0m%0\u001b[33m)\u001b[39m \u001b[0m#0 \u001b[33m{\u001b[39m\n",
      "\u001b[91mtop:\u001b[39m\n",
      "  \u001b[0m%1 \u001b[0m= \u001b[96m\u001b[1mfmul\u001b[22m\u001b[39m \u001b[36mdouble\u001b[39m \u001b[0m%0\u001b[0m, \u001b[0m%0\n",
      "  \u001b[0m%2 \u001b[0m= \u001b[96m\u001b[1mfmul\u001b[22m\u001b[39m \u001b[36mdouble\u001b[39m \u001b[0m%1\u001b[0m, \u001b[0m%0\n",
      "  \u001b[0m%3 \u001b[0m= \u001b[96m\u001b[1mfsub\u001b[22m\u001b[39m \u001b[36mdouble\u001b[39m \u001b[0m%2\u001b[0m, \u001b[0m%0\n",
      "  \u001b[96m\u001b[1mret\u001b[22m\u001b[39m \u001b[36mdouble\u001b[39m \u001b[0m%3\n",
      "\u001b[33m}\u001b[39m\n"
     ]
    }
   ],
   "source": [
    "@code_llvm debuginfo = :none f(1.5)"
   ]
  },
  {
   "cell_type": "code",
   "execution_count": 7,
   "id": "6056c081",
   "metadata": {},
   "outputs": [
    {
     "data": {
      "image/png": "",
      "image/svg+xml": [
       "<?xml version=\"1.0\" encoding=\"utf-8\"?>\n",
       "<svg xmlns=\"http://www.w3.org/2000/svg\" xmlns:xlink=\"http://www.w3.org/1999/xlink\" width=\"600\" height=\"400\" viewBox=\"0 0 2400 1600\">\n",
       "<defs>\n",
       "  <clipPath id=\"clip510\">\n",
       "    <rect x=\"0\" y=\"0\" width=\"2400\" height=\"1600\"/>\n",
       "  </clipPath>\n",
       "</defs>\n",
       "<path clip-path=\"url(#clip510)\" d=\"M0 1600 L2400 1600 L2400 0 L0 0  Z\" fill=\"#ffffff\" fill-rule=\"evenodd\" fill-opacity=\"1\"/>\n",
       "<defs>\n",
       "  <clipPath id=\"clip511\">\n",
       "    <rect x=\"480\" y=\"0\" width=\"1681\" height=\"1600\"/>\n",
       "  </clipPath>\n",
       "</defs>\n",
       "<path clip-path=\"url(#clip510)\" d=\"M530.515 1486.45 L1969.72 1486.45 L1969.72 47.2441 L530.515 47.2441  Z\" fill=\"#ffffff\" fill-rule=\"evenodd\" fill-opacity=\"1\"/>\n",
       "<defs>\n",
       "  <clipPath id=\"clip512\">\n",
       "    <rect x=\"530\" y=\"47\" width=\"1440\" height=\"1440\"/>\n",
       "  </clipPath>\n",
       "</defs>\n",
       "<polyline clip-path=\"url(#clip512)\" style=\"stroke:#000000; stroke-linecap:round; stroke-linejoin:round; stroke-width:2; stroke-opacity:0.1; fill:none\" points=\"530.515,1486.45 530.515,47.2441 \"/>\n",
       "<polyline clip-path=\"url(#clip512)\" style=\"stroke:#000000; stroke-linecap:round; stroke-linejoin:round; stroke-width:2; stroke-opacity:0.1; fill:none\" points=\"890.316,1486.45 890.316,47.2441 \"/>\n",
       "<polyline clip-path=\"url(#clip512)\" style=\"stroke:#000000; stroke-linecap:round; stroke-linejoin:round; stroke-width:2; stroke-opacity:0.1; fill:none\" points=\"1609.92,1486.45 1609.92,47.2441 \"/>\n",
       "<polyline clip-path=\"url(#clip512)\" style=\"stroke:#000000; stroke-linecap:round; stroke-linejoin:round; stroke-width:2; stroke-opacity:0.1; fill:none\" points=\"1969.72,1486.45 1969.72,47.2441 \"/>\n",
       "<polyline clip-path=\"url(#clip510)\" style=\"stroke:#000000; stroke-linecap:round; stroke-linejoin:round; stroke-width:4; stroke-opacity:1; fill:none\" points=\"530.515,766.846 1969.72,766.846 \"/>\n",
       "<polyline clip-path=\"url(#clip510)\" style=\"stroke:#000000; stroke-linecap:round; stroke-linejoin:round; stroke-width:4; stroke-opacity:1; fill:none\" points=\"530.515,785.744 530.515,747.948 \"/>\n",
       "<polyline clip-path=\"url(#clip510)\" style=\"stroke:#000000; stroke-linecap:round; stroke-linejoin:round; stroke-width:4; stroke-opacity:1; fill:none\" points=\"890.316,785.744 890.316,747.948 \"/>\n",
       "<polyline clip-path=\"url(#clip510)\" style=\"stroke:#000000; stroke-linecap:round; stroke-linejoin:round; stroke-width:4; stroke-opacity:1; fill:none\" points=\"1609.92,785.744 1609.92,747.948 \"/>\n",
       "<polyline clip-path=\"url(#clip510)\" style=\"stroke:#000000; stroke-linecap:round; stroke-linejoin:round; stroke-width:4; stroke-opacity:1; fill:none\" points=\"1969.72,785.744 1969.72,747.948 \"/>\n",
       "<path clip-path=\"url(#clip510)\" d=\"M500.457 812.417 L530.133 812.417 L530.133 816.353 L500.457 816.353 L500.457 812.417 Z\" fill=\"#000000\" fill-rule=\"nonzero\" fill-opacity=\"1\" /><path clip-path=\"url(#clip510)\" d=\"M544.253 825.311 L560.573 825.311 L560.573 829.246 L538.628 829.246 L538.628 825.311 Q541.29 822.556 545.874 817.927 Q550.48 813.274 551.661 811.931 Q553.906 809.408 554.786 807.672 Q555.688 805.913 555.688 804.223 Q555.688 801.468 553.744 799.732 Q551.823 797.996 548.721 797.996 Q546.522 797.996 544.068 798.76 Q541.638 799.524 538.86 801.075 L538.86 796.353 Q541.684 795.218 544.138 794.64 Q546.591 794.061 548.628 794.061 Q553.999 794.061 557.193 796.746 Q560.388 799.431 560.388 803.922 Q560.388 806.052 559.577 807.973 Q558.79 809.871 556.684 812.464 Q556.105 813.135 553.003 816.353 Q549.901 819.547 544.253 825.311 Z\" fill=\"#000000\" fill-rule=\"nonzero\" fill-opacity=\"1\" /><path clip-path=\"url(#clip510)\" d=\"M860.073 812.417 L889.749 812.417 L889.749 816.353 L860.073 816.353 L860.073 812.417 Z\" fill=\"#000000\" fill-rule=\"nonzero\" fill-opacity=\"1\" /><path clip-path=\"url(#clip510)\" d=\"M900.652 825.311 L908.29 825.311 L908.29 798.945 L899.98 800.612 L899.98 796.353 L908.244 794.686 L912.92 794.686 L912.92 825.311 L920.559 825.311 L920.559 829.246 L900.652 829.246 L900.652 825.311 Z\" fill=\"#000000\" fill-rule=\"nonzero\" fill-opacity=\"1\" /><path clip-path=\"url(#clip510)\" d=\"M1600.3 825.311 L1607.94 825.311 L1607.94 798.945 L1599.63 800.612 L1599.63 796.353 L1607.89 794.686 L1612.57 794.686 L1612.57 825.311 L1620.21 825.311 L1620.21 829.246 L1600.3 829.246 L1600.3 825.311 Z\" fill=\"#000000\" fill-rule=\"nonzero\" fill-opacity=\"1\" /><path clip-path=\"url(#clip510)\" d=\"M1964.37 825.311 L1980.69 825.311 L1980.69 829.246 L1958.75 829.246 L1958.75 825.311 Q1961.41 822.556 1965.99 817.927 Q1970.6 813.274 1971.78 811.931 Q1974.02 809.408 1974.9 807.672 Q1975.81 805.913 1975.81 804.223 Q1975.81 801.468 1973.86 799.732 Q1971.94 797.996 1968.84 797.996 Q1966.64 797.996 1964.19 798.76 Q1961.76 799.524 1958.98 801.075 L1958.98 796.353 Q1961.8 795.218 1964.26 794.64 Q1966.71 794.061 1968.75 794.061 Q1974.12 794.061 1977.31 796.746 Q1980.51 799.431 1980.51 803.922 Q1980.51 806.052 1979.7 807.973 Q1978.91 809.871 1976.8 812.464 Q1976.22 813.135 1973.12 816.353 Q1970.02 819.547 1964.37 825.311 Z\" fill=\"#000000\" fill-rule=\"nonzero\" fill-opacity=\"1\" /><polyline clip-path=\"url(#clip512)\" style=\"stroke:#000000; stroke-linecap:round; stroke-linejoin:round; stroke-width:2; stroke-opacity:0.1; fill:none\" points=\"530.515,1486.45 1969.72,1486.45 \"/>\n",
       "<polyline clip-path=\"url(#clip512)\" style=\"stroke:#000000; stroke-linecap:round; stroke-linejoin:round; stroke-width:2; stroke-opacity:0.1; fill:none\" points=\"530.515,1126.65 1969.72,1126.65 \"/>\n",
       "<polyline clip-path=\"url(#clip512)\" style=\"stroke:#000000; stroke-linecap:round; stroke-linejoin:round; stroke-width:2; stroke-opacity:0.1; fill:none\" points=\"530.515,407.045 1969.72,407.045 \"/>\n",
       "<polyline clip-path=\"url(#clip512)\" style=\"stroke:#000000; stroke-linecap:round; stroke-linejoin:round; stroke-width:2; stroke-opacity:0.1; fill:none\" points=\"530.515,47.2441 1969.72,47.2441 \"/>\n",
       "<polyline clip-path=\"url(#clip510)\" style=\"stroke:#000000; stroke-linecap:round; stroke-linejoin:round; stroke-width:4; stroke-opacity:1; fill:none\" points=\"1250.12,1486.45 1250.12,47.2441 \"/>\n",
       "<polyline clip-path=\"url(#clip510)\" style=\"stroke:#000000; stroke-linecap:round; stroke-linejoin:round; stroke-width:4; stroke-opacity:1; fill:none\" points=\"1237.78,1486.45 1262.45,1486.45 \"/>\n",
       "<polyline clip-path=\"url(#clip510)\" style=\"stroke:#000000; stroke-linecap:round; stroke-linejoin:round; stroke-width:4; stroke-opacity:1; fill:none\" points=\"1237.78,1126.65 1262.45,1126.65 \"/>\n",
       "<polyline clip-path=\"url(#clip510)\" style=\"stroke:#000000; stroke-linecap:round; stroke-linejoin:round; stroke-width:4; stroke-opacity:1; fill:none\" points=\"1237.78,407.045 1262.45,407.045 \"/>\n",
       "<polyline clip-path=\"url(#clip510)\" style=\"stroke:#000000; stroke-linecap:round; stroke-linejoin:round; stroke-width:4; stroke-opacity:1; fill:none\" points=\"1237.78,47.2441 1262.45,47.2441 \"/>\n",
       "<path clip-path=\"url(#clip510)\" d=\"M1154 1486.9 L1183.68 1486.9 L1183.68 1490.83 L1154 1490.83 L1154 1486.9 Z\" fill=\"#000000\" fill-rule=\"nonzero\" fill-opacity=\"1\" /><path clip-path=\"url(#clip510)\" d=\"M1197.8 1499.79 L1214.12 1499.79 L1214.12 1503.73 L1192.17 1503.73 L1192.17 1499.79 Q1194.83 1497.04 1199.42 1492.41 Q1204.02 1487.76 1205.2 1486.41 Q1207.45 1483.89 1208.33 1482.15 Q1209.23 1480.39 1209.23 1478.7 Q1209.23 1475.95 1207.29 1474.21 Q1205.37 1472.48 1202.27 1472.48 Q1200.07 1472.48 1197.61 1473.24 Q1195.18 1474.01 1192.4 1475.56 L1192.4 1470.83 Q1195.23 1469.7 1197.68 1469.12 Q1200.14 1468.54 1202.17 1468.54 Q1207.54 1468.54 1210.74 1471.23 Q1213.93 1473.91 1213.93 1478.4 Q1213.93 1480.53 1213.12 1482.45 Q1212.33 1484.35 1210.23 1486.95 Q1209.65 1487.62 1206.55 1490.83 Q1203.45 1494.03 1197.8 1499.79 Z\" fill=\"#000000\" fill-rule=\"nonzero\" fill-opacity=\"1\" /><path clip-path=\"url(#clip510)\" d=\"M1153.63 1127.1 L1183.31 1127.1 L1183.31 1131.03 L1153.63 1131.03 L1153.63 1127.1 Z\" fill=\"#000000\" fill-rule=\"nonzero\" fill-opacity=\"1\" /><path clip-path=\"url(#clip510)\" d=\"M1194.21 1139.99 L1201.85 1139.99 L1201.85 1113.63 L1193.54 1115.29 L1193.54 1111.03 L1201.8 1109.37 L1206.48 1109.37 L1206.48 1139.99 L1214.12 1139.99 L1214.12 1143.93 L1194.21 1143.93 L1194.21 1139.99 Z\" fill=\"#000000\" fill-rule=\"nonzero\" fill-opacity=\"1\" /><path clip-path=\"url(#clip510)\" d=\"M1194.21 420.39 L1201.85 420.39 L1201.85 394.024 L1193.54 395.691 L1193.54 391.432 L1201.8 389.765 L1206.48 389.765 L1206.48 420.39 L1214.12 420.39 L1214.12 424.325 L1194.21 424.325 L1194.21 420.39 Z\" fill=\"#000000\" fill-rule=\"nonzero\" fill-opacity=\"1\" /><path clip-path=\"url(#clip510)\" d=\"M1197.8 60.5889 L1214.12 60.5889 L1214.12 64.5241 L1192.17 64.5241 L1192.17 60.5889 Q1194.83 57.8343 1199.42 53.2047 Q1204.02 48.552 1205.2 47.2094 Q1207.45 44.6862 1208.33 42.9501 Q1209.23 41.1909 1209.23 39.5011 Q1209.23 36.7465 1207.29 35.0104 Q1205.37 33.2743 1202.27 33.2743 Q1200.07 33.2743 1197.61 34.0381 Q1195.18 34.802 1192.4 36.3529 L1192.4 31.6308 Q1195.23 30.4965 1197.68 29.9178 Q1200.14 29.3391 1202.17 29.3391 Q1207.54 29.3391 1210.74 32.0243 Q1213.93 34.7094 1213.93 39.2002 Q1213.93 41.3298 1213.12 43.2511 Q1212.33 45.1492 1210.23 47.7418 Q1209.65 48.4131 1206.55 51.6306 Q1203.45 54.8251 1197.8 60.5889 Z\" fill=\"#000000\" fill-rule=\"nonzero\" fill-opacity=\"1\" /><polyline clip-path=\"url(#clip512)\" style=\"stroke:#009af9; stroke-linecap:round; stroke-linejoin:round; stroke-width:4; stroke-opacity:1; fill:none\" points=\"530.515,2925.65 532.858,2899.98 535.2,2874.48 537.543,2849.17 539.885,2824.04 550.715,2710.19 561.545,2600.15 572.375,2493.85 583.205,2391.23 594.035,2292.24 604.864,2196.82 615.694,2104.9 626.524,2016.43 639.541,1914.58 652.557,1817.52 665.574,1725.16 678.591,1637.38 689.596,1566.67 700.602,1499.11 711.607,1434.64 722.612,1373.19 734.567,1309.79 746.522,1249.8 758.477,1193.15 770.432,1139.76 792.475,1049.58 814.518,969.711 826.334,930.966 838.15,894.964 849.966,861.628 861.782,830.881 875.472,798.396 889.163,769.164 902.853,743.068 916.543,719.988 940.875,686.043 965.207,660.584 986.545,644.714 1007.88,634.407 1031.15,628.978 1054.41,629.041 1077.81,634.056 1101.21,643.445 1152.96,676.772 1202.19,719.774 1253.39,770.117 1296.48,812.442 1349.1,858.335 1397.29,889.397 1419.55,898.707 1441.81,904.127 1464.35,905.128 1486.9,901.081 1512.17,889.893 1537.43,870.95 1560.33,846.462 1583.23,814.437 1596.33,792.497 1609.44,767.8 1622.55,740.242 1635.65,709.718 1647.79,678.721 1659.93,645.01 1672.06,608.501 1684.2,569.111 1696.16,527.377 1708.13,482.684 1720.09,434.952 1732.06,384.101 1743.68,331.671 1755.29,276.153 1766.91,217.476 1778.53,155.566 1790.43,88.6696 1802.34,18.2216 1814.25,-55.8563 1826.16,-133.642 1839.21,-223.215 1852.26,-317.436 1865.3,-416.408 1878.35,-520.234 1897.3,-679.915 1916.26,-850.373 1935.21,-1031.92 1954.17,-1224.88 1958.05,-1265.9 1961.94,-1307.42 1965.83,-1349.44 1969.72,-1391.96 \"/>\n",
       "<path clip-path=\"url(#clip510)\" d=\"M604.024 198.898 L1041.87 198.898 L1041.87 95.2176 L604.024 95.2176  Z\" fill=\"#ffffff\" fill-rule=\"evenodd\" fill-opacity=\"1\"/>\n",
       "<polyline clip-path=\"url(#clip510)\" style=\"stroke:#000000; stroke-linecap:round; stroke-linejoin:round; stroke-width:4; stroke-opacity:1; fill:none\" points=\"604.024,198.898 1041.87,198.898 1041.87,95.2176 604.024,95.2176 604.024,198.898 \"/>\n",
       "<polyline clip-path=\"url(#clip510)\" style=\"stroke:#009af9; stroke-linecap:round; stroke-linejoin:round; stroke-width:4; stroke-opacity:1; fill:none\" points=\"628.527,147.058 775.546,147.058 \"/>\n",
       "<path clip-path=\"url(#clip510)\" d=\"M813.892 166.745 Q812.086 171.375 810.373 172.787 Q808.66 174.199 805.79 174.199 L802.387 174.199 L802.387 170.634 L804.887 170.634 Q806.646 170.634 807.618 169.8 Q808.591 168.967 809.771 165.865 L810.535 163.921 L800.049 138.412 L804.563 138.412 L812.665 158.689 L820.766 138.412 L825.28 138.412 L813.892 166.745 Z\" fill=\"#000000\" fill-rule=\"nonzero\" fill-opacity=\"1\" /><path clip-path=\"url(#clip510)\" d=\"M846.785 142.81 L876.461 142.81 L876.461 146.699 L846.785 146.699 L846.785 142.81 M846.785 152.254 L876.461 152.254 L876.461 156.189 L846.785 156.189 L846.785 152.254 Z\" fill=\"#000000\" fill-rule=\"nonzero\" fill-opacity=\"1\" /><path clip-path=\"url(#clip510)\" d=\"M922.571 138.412 L913.197 151.027 L923.058 164.338 L918.034 164.338 L910.488 154.152 L902.942 164.338 L897.919 164.338 L907.988 150.773 L898.775 138.412 L903.798 138.412 L910.673 147.648 L917.548 138.412 L922.571 138.412 Z\" fill=\"#000000\" fill-rule=\"nonzero\" fill-opacity=\"1\" /><path clip-path=\"url(#clip510)\" d=\"M936.738 138.412 Q938.868 138.828 940.025 140.102 Q941.206 141.352 941.206 143.25 Q941.206 146.12 939.007 147.671 Q936.808 149.222 932.71 149.222 Q931.391 149.222 929.933 148.99 Q928.497 148.736 926.877 148.273 L926.877 145.472 Q928.081 146.097 929.446 146.398 Q930.835 146.699 932.386 146.699 Q934.909 146.699 936.298 145.796 Q937.687 144.87 937.687 143.25 Q937.687 141.537 936.391 140.657 Q935.118 139.778 932.618 139.778 L930.627 139.778 L930.627 137.278 L932.803 137.278 Q934.979 137.278 936.09 136.56 Q937.224 135.819 937.224 134.43 Q937.224 133.088 936.067 132.393 Q934.909 131.676 932.71 131.676 Q931.784 131.676 930.604 131.884 Q929.423 132.092 927.548 132.625 L927.548 129.963 Q929.238 129.569 930.72 129.361 Q932.201 129.153 933.474 129.153 Q936.808 129.153 938.752 130.518 Q940.72 131.884 940.72 134.176 Q940.72 135.773 939.678 136.884 Q938.636 137.995 936.738 138.412 Z\" fill=\"#000000\" fill-rule=\"nonzero\" fill-opacity=\"1\" /><path clip-path=\"url(#clip510)\" d=\"M960.997 149.453 L973.474 149.453 L973.474 153.25 L960.997 153.25 L960.997 149.453 Z\" fill=\"#000000\" fill-rule=\"nonzero\" fill-opacity=\"1\" /><path clip-path=\"url(#clip510)\" d=\"M1016.88 138.412 L1007.5 151.027 L1017.36 164.338 L1012.34 164.338 L1004.79 154.152 L997.247 164.338 L992.224 164.338 L1002.29 150.773 L993.08 138.412 L998.103 138.412 L1004.98 147.648 L1011.85 138.412 L1016.88 138.412 Z\" fill=\"#000000\" fill-rule=\"nonzero\" fill-opacity=\"1\" /></svg>\n"
      ],
      "text/html": [
       "<?xml version=\"1.0\" encoding=\"utf-8\"?>\n",
       "<svg xmlns=\"http://www.w3.org/2000/svg\" xmlns:xlink=\"http://www.w3.org/1999/xlink\" width=\"600\" height=\"400\" viewBox=\"0 0 2400 1600\">\n",
       "<defs>\n",
       "  <clipPath id=\"clip560\">\n",
       "    <rect x=\"0\" y=\"0\" width=\"2400\" height=\"1600\"/>\n",
       "  </clipPath>\n",
       "</defs>\n",
       "<path clip-path=\"url(#clip560)\" d=\"M0 1600 L2400 1600 L2400 0 L0 0  Z\" fill=\"#ffffff\" fill-rule=\"evenodd\" fill-opacity=\"1\"/>\n",
       "<defs>\n",
       "  <clipPath id=\"clip561\">\n",
       "    <rect x=\"480\" y=\"0\" width=\"1681\" height=\"1600\"/>\n",
       "  </clipPath>\n",
       "</defs>\n",
       "<path clip-path=\"url(#clip560)\" d=\"M530.515 1486.45 L1969.72 1486.45 L1969.72 47.2441 L530.515 47.2441  Z\" fill=\"#ffffff\" fill-rule=\"evenodd\" fill-opacity=\"1\"/>\n",
       "<defs>\n",
       "  <clipPath id=\"clip562\">\n",
       "    <rect x=\"530\" y=\"47\" width=\"1440\" height=\"1440\"/>\n",
       "  </clipPath>\n",
       "</defs>\n",
       "<polyline clip-path=\"url(#clip562)\" style=\"stroke:#000000; stroke-linecap:round; stroke-linejoin:round; stroke-width:2; stroke-opacity:0.1; fill:none\" points=\"530.515,1486.45 530.515,47.2441 \"/>\n",
       "<polyline clip-path=\"url(#clip562)\" style=\"stroke:#000000; stroke-linecap:round; stroke-linejoin:round; stroke-width:2; stroke-opacity:0.1; fill:none\" points=\"890.316,1486.45 890.316,47.2441 \"/>\n",
       "<polyline clip-path=\"url(#clip562)\" style=\"stroke:#000000; stroke-linecap:round; stroke-linejoin:round; stroke-width:2; stroke-opacity:0.1; fill:none\" points=\"1609.92,1486.45 1609.92,47.2441 \"/>\n",
       "<polyline clip-path=\"url(#clip562)\" style=\"stroke:#000000; stroke-linecap:round; stroke-linejoin:round; stroke-width:2; stroke-opacity:0.1; fill:none\" points=\"1969.72,1486.45 1969.72,47.2441 \"/>\n",
       "<polyline clip-path=\"url(#clip560)\" style=\"stroke:#000000; stroke-linecap:round; stroke-linejoin:round; stroke-width:4; stroke-opacity:1; fill:none\" points=\"530.515,766.846 1969.72,766.846 \"/>\n",
       "<polyline clip-path=\"url(#clip560)\" style=\"stroke:#000000; stroke-linecap:round; stroke-linejoin:round; stroke-width:4; stroke-opacity:1; fill:none\" points=\"530.515,785.744 530.515,747.948 \"/>\n",
       "<polyline clip-path=\"url(#clip560)\" style=\"stroke:#000000; stroke-linecap:round; stroke-linejoin:round; stroke-width:4; stroke-opacity:1; fill:none\" points=\"890.316,785.744 890.316,747.948 \"/>\n",
       "<polyline clip-path=\"url(#clip560)\" style=\"stroke:#000000; stroke-linecap:round; stroke-linejoin:round; stroke-width:4; stroke-opacity:1; fill:none\" points=\"1609.92,785.744 1609.92,747.948 \"/>\n",
       "<polyline clip-path=\"url(#clip560)\" style=\"stroke:#000000; stroke-linecap:round; stroke-linejoin:round; stroke-width:4; stroke-opacity:1; fill:none\" points=\"1969.72,785.744 1969.72,747.948 \"/>\n",
       "<path clip-path=\"url(#clip560)\" d=\"M500.457 812.417 L530.133 812.417 L530.133 816.353 L500.457 816.353 L500.457 812.417 Z\" fill=\"#000000\" fill-rule=\"nonzero\" fill-opacity=\"1\" /><path clip-path=\"url(#clip560)\" d=\"M544.253 825.311 L560.573 825.311 L560.573 829.246 L538.628 829.246 L538.628 825.311 Q541.29 822.556 545.874 817.927 Q550.48 813.274 551.661 811.931 Q553.906 809.408 554.786 807.672 Q555.688 805.913 555.688 804.223 Q555.688 801.468 553.744 799.732 Q551.823 797.996 548.721 797.996 Q546.522 797.996 544.068 798.76 Q541.638 799.524 538.86 801.075 L538.86 796.353 Q541.684 795.218 544.138 794.64 Q546.591 794.061 548.628 794.061 Q553.999 794.061 557.193 796.746 Q560.388 799.431 560.388 803.922 Q560.388 806.052 559.577 807.973 Q558.79 809.871 556.684 812.464 Q556.105 813.135 553.003 816.353 Q549.901 819.547 544.253 825.311 Z\" fill=\"#000000\" fill-rule=\"nonzero\" fill-opacity=\"1\" /><path clip-path=\"url(#clip560)\" d=\"M860.073 812.417 L889.749 812.417 L889.749 816.353 L860.073 816.353 L860.073 812.417 Z\" fill=\"#000000\" fill-rule=\"nonzero\" fill-opacity=\"1\" /><path clip-path=\"url(#clip560)\" d=\"M900.652 825.311 L908.29 825.311 L908.29 798.945 L899.98 800.612 L899.98 796.353 L908.244 794.686 L912.92 794.686 L912.92 825.311 L920.559 825.311 L920.559 829.246 L900.652 829.246 L900.652 825.311 Z\" fill=\"#000000\" fill-rule=\"nonzero\" fill-opacity=\"1\" /><path clip-path=\"url(#clip560)\" d=\"M1600.3 825.311 L1607.94 825.311 L1607.94 798.945 L1599.63 800.612 L1599.63 796.353 L1607.89 794.686 L1612.57 794.686 L1612.57 825.311 L1620.21 825.311 L1620.21 829.246 L1600.3 829.246 L1600.3 825.311 Z\" fill=\"#000000\" fill-rule=\"nonzero\" fill-opacity=\"1\" /><path clip-path=\"url(#clip560)\" d=\"M1964.37 825.311 L1980.69 825.311 L1980.69 829.246 L1958.75 829.246 L1958.75 825.311 Q1961.41 822.556 1965.99 817.927 Q1970.6 813.274 1971.78 811.931 Q1974.02 809.408 1974.9 807.672 Q1975.81 805.913 1975.81 804.223 Q1975.81 801.468 1973.86 799.732 Q1971.94 797.996 1968.84 797.996 Q1966.64 797.996 1964.19 798.76 Q1961.76 799.524 1958.98 801.075 L1958.98 796.353 Q1961.8 795.218 1964.26 794.64 Q1966.71 794.061 1968.75 794.061 Q1974.12 794.061 1977.31 796.746 Q1980.51 799.431 1980.51 803.922 Q1980.51 806.052 1979.7 807.973 Q1978.91 809.871 1976.8 812.464 Q1976.22 813.135 1973.12 816.353 Q1970.02 819.547 1964.37 825.311 Z\" fill=\"#000000\" fill-rule=\"nonzero\" fill-opacity=\"1\" /><polyline clip-path=\"url(#clip562)\" style=\"stroke:#000000; stroke-linecap:round; stroke-linejoin:round; stroke-width:2; stroke-opacity:0.1; fill:none\" points=\"530.515,1486.45 1969.72,1486.45 \"/>\n",
       "<polyline clip-path=\"url(#clip562)\" style=\"stroke:#000000; stroke-linecap:round; stroke-linejoin:round; stroke-width:2; stroke-opacity:0.1; fill:none\" points=\"530.515,1126.65 1969.72,1126.65 \"/>\n",
       "<polyline clip-path=\"url(#clip562)\" style=\"stroke:#000000; stroke-linecap:round; stroke-linejoin:round; stroke-width:2; stroke-opacity:0.1; fill:none\" points=\"530.515,407.045 1969.72,407.045 \"/>\n",
       "<polyline clip-path=\"url(#clip562)\" style=\"stroke:#000000; stroke-linecap:round; stroke-linejoin:round; stroke-width:2; stroke-opacity:0.1; fill:none\" points=\"530.515,47.2441 1969.72,47.2441 \"/>\n",
       "<polyline clip-path=\"url(#clip560)\" style=\"stroke:#000000; stroke-linecap:round; stroke-linejoin:round; stroke-width:4; stroke-opacity:1; fill:none\" points=\"1250.12,1486.45 1250.12,47.2441 \"/>\n",
       "<polyline clip-path=\"url(#clip560)\" style=\"stroke:#000000; stroke-linecap:round; stroke-linejoin:round; stroke-width:4; stroke-opacity:1; fill:none\" points=\"1237.78,1486.45 1262.45,1486.45 \"/>\n",
       "<polyline clip-path=\"url(#clip560)\" style=\"stroke:#000000; stroke-linecap:round; stroke-linejoin:round; stroke-width:4; stroke-opacity:1; fill:none\" points=\"1237.78,1126.65 1262.45,1126.65 \"/>\n",
       "<polyline clip-path=\"url(#clip560)\" style=\"stroke:#000000; stroke-linecap:round; stroke-linejoin:round; stroke-width:4; stroke-opacity:1; fill:none\" points=\"1237.78,407.045 1262.45,407.045 \"/>\n",
       "<polyline clip-path=\"url(#clip560)\" style=\"stroke:#000000; stroke-linecap:round; stroke-linejoin:round; stroke-width:4; stroke-opacity:1; fill:none\" points=\"1237.78,47.2441 1262.45,47.2441 \"/>\n",
       "<path clip-path=\"url(#clip560)\" d=\"M1154 1486.9 L1183.68 1486.9 L1183.68 1490.83 L1154 1490.83 L1154 1486.9 Z\" fill=\"#000000\" fill-rule=\"nonzero\" fill-opacity=\"1\" /><path clip-path=\"url(#clip560)\" d=\"M1197.8 1499.79 L1214.12 1499.79 L1214.12 1503.73 L1192.17 1503.73 L1192.17 1499.79 Q1194.83 1497.04 1199.42 1492.41 Q1204.02 1487.76 1205.2 1486.41 Q1207.45 1483.89 1208.33 1482.15 Q1209.23 1480.39 1209.23 1478.7 Q1209.23 1475.95 1207.29 1474.21 Q1205.37 1472.48 1202.27 1472.48 Q1200.07 1472.48 1197.61 1473.24 Q1195.18 1474.01 1192.4 1475.56 L1192.4 1470.83 Q1195.23 1469.7 1197.68 1469.12 Q1200.14 1468.54 1202.17 1468.54 Q1207.54 1468.54 1210.74 1471.23 Q1213.93 1473.91 1213.93 1478.4 Q1213.93 1480.53 1213.12 1482.45 Q1212.33 1484.35 1210.23 1486.95 Q1209.65 1487.62 1206.55 1490.83 Q1203.45 1494.03 1197.8 1499.79 Z\" fill=\"#000000\" fill-rule=\"nonzero\" fill-opacity=\"1\" /><path clip-path=\"url(#clip560)\" d=\"M1153.63 1127.1 L1183.31 1127.1 L1183.31 1131.03 L1153.63 1131.03 L1153.63 1127.1 Z\" fill=\"#000000\" fill-rule=\"nonzero\" fill-opacity=\"1\" /><path clip-path=\"url(#clip560)\" d=\"M1194.21 1139.99 L1201.85 1139.99 L1201.85 1113.63 L1193.54 1115.29 L1193.54 1111.03 L1201.8 1109.37 L1206.48 1109.37 L1206.48 1139.99 L1214.12 1139.99 L1214.12 1143.93 L1194.21 1143.93 L1194.21 1139.99 Z\" fill=\"#000000\" fill-rule=\"nonzero\" fill-opacity=\"1\" /><path clip-path=\"url(#clip560)\" d=\"M1194.21 420.39 L1201.85 420.39 L1201.85 394.024 L1193.54 395.691 L1193.54 391.432 L1201.8 389.765 L1206.48 389.765 L1206.48 420.39 L1214.12 420.39 L1214.12 424.325 L1194.21 424.325 L1194.21 420.39 Z\" fill=\"#000000\" fill-rule=\"nonzero\" fill-opacity=\"1\" /><path clip-path=\"url(#clip560)\" d=\"M1197.8 60.5889 L1214.12 60.5889 L1214.12 64.5241 L1192.17 64.5241 L1192.17 60.5889 Q1194.83 57.8343 1199.42 53.2047 Q1204.02 48.552 1205.2 47.2094 Q1207.45 44.6862 1208.33 42.9501 Q1209.23 41.1909 1209.23 39.5011 Q1209.23 36.7465 1207.29 35.0104 Q1205.37 33.2743 1202.27 33.2743 Q1200.07 33.2743 1197.61 34.0381 Q1195.18 34.802 1192.4 36.3529 L1192.4 31.6308 Q1195.23 30.4965 1197.68 29.9178 Q1200.14 29.3391 1202.17 29.3391 Q1207.54 29.3391 1210.74 32.0243 Q1213.93 34.7094 1213.93 39.2002 Q1213.93 41.3298 1213.12 43.2511 Q1212.33 45.1492 1210.23 47.7418 Q1209.65 48.4131 1206.55 51.6306 Q1203.45 54.8251 1197.8 60.5889 Z\" fill=\"#000000\" fill-rule=\"nonzero\" fill-opacity=\"1\" /><polyline clip-path=\"url(#clip562)\" style=\"stroke:#009af9; stroke-linecap:round; stroke-linejoin:round; stroke-width:4; stroke-opacity:1; fill:none\" points=\"530.515,2925.65 532.858,2899.98 535.2,2874.48 537.543,2849.17 539.885,2824.04 550.715,2710.19 561.545,2600.15 572.375,2493.85 583.205,2391.23 594.035,2292.24 604.864,2196.82 615.694,2104.9 626.524,2016.43 639.541,1914.58 652.557,1817.52 665.574,1725.16 678.591,1637.38 689.596,1566.67 700.602,1499.11 711.607,1434.64 722.612,1373.19 734.567,1309.79 746.522,1249.8 758.477,1193.15 770.432,1139.76 792.475,1049.58 814.518,969.711 826.334,930.966 838.15,894.964 849.966,861.628 861.782,830.881 875.472,798.396 889.163,769.164 902.853,743.068 916.543,719.988 940.875,686.043 965.207,660.584 986.545,644.714 1007.88,634.407 1031.15,628.978 1054.41,629.041 1077.81,634.056 1101.21,643.445 1152.96,676.772 1202.19,719.774 1253.39,770.117 1296.48,812.442 1349.1,858.335 1397.29,889.397 1419.55,898.707 1441.81,904.127 1464.35,905.128 1486.9,901.081 1512.17,889.893 1537.43,870.95 1560.33,846.462 1583.23,814.437 1596.33,792.497 1609.44,767.8 1622.55,740.242 1635.65,709.718 1647.79,678.721 1659.93,645.01 1672.06,608.501 1684.2,569.111 1696.16,527.377 1708.13,482.684 1720.09,434.952 1732.06,384.101 1743.68,331.671 1755.29,276.153 1766.91,217.476 1778.53,155.566 1790.43,88.6696 1802.34,18.2216 1814.25,-55.8563 1826.16,-133.642 1839.21,-223.215 1852.26,-317.436 1865.3,-416.408 1878.35,-520.234 1897.3,-679.915 1916.26,-850.373 1935.21,-1031.92 1954.17,-1224.88 1958.05,-1265.9 1961.94,-1307.42 1965.83,-1349.44 1969.72,-1391.96 \"/>\n",
       "<path clip-path=\"url(#clip560)\" d=\"M604.024 198.898 L1041.87 198.898 L1041.87 95.2176 L604.024 95.2176  Z\" fill=\"#ffffff\" fill-rule=\"evenodd\" fill-opacity=\"1\"/>\n",
       "<polyline clip-path=\"url(#clip560)\" style=\"stroke:#000000; stroke-linecap:round; stroke-linejoin:round; stroke-width:4; stroke-opacity:1; fill:none\" points=\"604.024,198.898 1041.87,198.898 1041.87,95.2176 604.024,95.2176 604.024,198.898 \"/>\n",
       "<polyline clip-path=\"url(#clip560)\" style=\"stroke:#009af9; stroke-linecap:round; stroke-linejoin:round; stroke-width:4; stroke-opacity:1; fill:none\" points=\"628.527,147.058 775.546,147.058 \"/>\n",
       "<path clip-path=\"url(#clip560)\" d=\"M813.892 166.745 Q812.086 171.375 810.373 172.787 Q808.66 174.199 805.79 174.199 L802.387 174.199 L802.387 170.634 L804.887 170.634 Q806.646 170.634 807.618 169.8 Q808.591 168.967 809.771 165.865 L810.535 163.921 L800.049 138.412 L804.563 138.412 L812.665 158.689 L820.766 138.412 L825.28 138.412 L813.892 166.745 Z\" fill=\"#000000\" fill-rule=\"nonzero\" fill-opacity=\"1\" /><path clip-path=\"url(#clip560)\" d=\"M846.785 142.81 L876.461 142.81 L876.461 146.699 L846.785 146.699 L846.785 142.81 M846.785 152.254 L876.461 152.254 L876.461 156.189 L846.785 156.189 L846.785 152.254 Z\" fill=\"#000000\" fill-rule=\"nonzero\" fill-opacity=\"1\" /><path clip-path=\"url(#clip560)\" d=\"M922.571 138.412 L913.197 151.027 L923.058 164.338 L918.034 164.338 L910.488 154.152 L902.942 164.338 L897.919 164.338 L907.988 150.773 L898.775 138.412 L903.798 138.412 L910.673 147.648 L917.548 138.412 L922.571 138.412 Z\" fill=\"#000000\" fill-rule=\"nonzero\" fill-opacity=\"1\" /><path clip-path=\"url(#clip560)\" d=\"M936.738 138.412 Q938.868 138.828 940.025 140.102 Q941.206 141.352 941.206 143.25 Q941.206 146.12 939.007 147.671 Q936.808 149.222 932.71 149.222 Q931.391 149.222 929.933 148.99 Q928.497 148.736 926.877 148.273 L926.877 145.472 Q928.081 146.097 929.446 146.398 Q930.835 146.699 932.386 146.699 Q934.909 146.699 936.298 145.796 Q937.687 144.87 937.687 143.25 Q937.687 141.537 936.391 140.657 Q935.118 139.778 932.618 139.778 L930.627 139.778 L930.627 137.278 L932.803 137.278 Q934.979 137.278 936.09 136.56 Q937.224 135.819 937.224 134.43 Q937.224 133.088 936.067 132.393 Q934.909 131.676 932.71 131.676 Q931.784 131.676 930.604 131.884 Q929.423 132.092 927.548 132.625 L927.548 129.963 Q929.238 129.569 930.72 129.361 Q932.201 129.153 933.474 129.153 Q936.808 129.153 938.752 130.518 Q940.72 131.884 940.72 134.176 Q940.72 135.773 939.678 136.884 Q938.636 137.995 936.738 138.412 Z\" fill=\"#000000\" fill-rule=\"nonzero\" fill-opacity=\"1\" /><path clip-path=\"url(#clip560)\" d=\"M960.997 149.453 L973.474 149.453 L973.474 153.25 L960.997 153.25 L960.997 149.453 Z\" fill=\"#000000\" fill-rule=\"nonzero\" fill-opacity=\"1\" /><path clip-path=\"url(#clip560)\" d=\"M1016.88 138.412 L1007.5 151.027 L1017.36 164.338 L1012.34 164.338 L1004.79 154.152 L997.247 164.338 L992.224 164.338 L1002.29 150.773 L993.08 138.412 L998.103 138.412 L1004.98 147.648 L1011.85 138.412 L1016.88 138.412 Z\" fill=\"#000000\" fill-rule=\"nonzero\" fill-opacity=\"1\" /></svg>\n"
      ]
     },
     "execution_count": 7,
     "metadata": {},
     "output_type": "execute_result"
    }
   ],
   "source": [
    "using Plots\n",
    "\n",
    "plot(f, xlims=(-2, 2), ylims = (-2, 2), framestyle = :origin, aspect_ratio = 1, label = \"y = x³ - x\")"
   ]
  },
  {
   "cell_type": "code",
   "execution_count": 8,
   "id": "f26e5bcc",
   "metadata": {},
   "outputs": [
    {
     "data": {
      "text/plain": [
       "5×5 Matrix{Float64}:\n",
       " 0.31861   0.405681  0.931205  0.285062  0.249251\n",
       " 0.36356   0.922227  0.447478  0.740319  0.774522\n",
       " 0.243903  0.439802  0.637628  0.84524   0.583584\n",
       " 0.451579  0.809628  0.279966  0.757493  0.973794\n",
       " 0.770745  0.263092  0.02898   0.642441  0.634272"
      ]
     },
     "execution_count": 8,
     "metadata": {},
     "output_type": "execute_result"
    }
   ],
   "source": [
    "A = rand(5,5)"
   ]
  },
  {
   "cell_type": "code",
   "execution_count": 9,
   "id": "25a6aea9",
   "metadata": {},
   "outputs": [
    {
     "data": {
      "text/plain": [
       "5×5 Matrix{Float64}:\n",
       " 2.41758  3.16219  1.56602  3.87632  3.94668\n",
       " 3.90665  4.48149  3.33127  5.38178  5.4934\n",
       " 3.3968   4.126    2.52286  4.36163  4.75685\n",
       " 3.76779  4.48683  3.50693  5.22741  5.15485\n",
       " 2.01374  3.27277  2.66821  3.43276  3.44477"
      ]
     },
     "execution_count": 9,
     "metadata": {},
     "output_type": "execute_result"
    }
   ],
   "source": [
    "f(A)"
   ]
  },
  {
   "cell_type": "code",
   "execution_count": 10,
   "id": "f162e779",
   "metadata": {},
   "outputs": [
    {
     "data": {
      "text/plain": [
       "5-element Vector{Int64}:\n",
       " -2\n",
       " -1\n",
       "  0\n",
       "  1\n",
       "  2"
      ]
     },
     "execution_count": 10,
     "metadata": {},
     "output_type": "execute_result"
    }
   ],
   "source": [
    "b = [-2, -1, 0, 1, 2]"
   ]
  },
  {
   "cell_type": "code",
   "execution_count": 11,
   "id": "66c3e39c",
   "metadata": {},
   "outputs": [
    {
     "ename": "LoadError",
     "evalue": "MethodError: no method matching ^(::Vector{Int64}, ::Int64)\n\n\u001b[0mClosest candidates are:\n\u001b[0m  ^(\u001b[91m::Float16\u001b[39m, ::Integer)\n\u001b[0m\u001b[90m   @\u001b[39m \u001b[90mBase\u001b[39m \u001b[90m\u001b[4mmath.jl:1283\u001b[24m\u001b[39m\n\u001b[0m  ^(\u001b[91m::Regex\u001b[39m, ::Integer)\n\u001b[0m\u001b[90m   @\u001b[39m \u001b[90mBase\u001b[39m \u001b[90m\u001b[4mregex.jl:863\u001b[24m\u001b[39m\n\u001b[0m  ^(\u001b[91m::Float32\u001b[39m, ::Integer)\n\u001b[0m\u001b[90m   @\u001b[39m \u001b[90mBase\u001b[39m \u001b[90m\u001b[4mmath.jl:1277\u001b[24m\u001b[39m\n\u001b[0m  ...\n",
     "output_type": "error",
     "traceback": [
      "MethodError: no method matching ^(::Vector{Int64}, ::Int64)\n\n\u001b[0mClosest candidates are:\n\u001b[0m  ^(\u001b[91m::Float16\u001b[39m, ::Integer)\n\u001b[0m\u001b[90m   @\u001b[39m \u001b[90mBase\u001b[39m \u001b[90m\u001b[4mmath.jl:1283\u001b[24m\u001b[39m\n\u001b[0m  ^(\u001b[91m::Regex\u001b[39m, ::Integer)\n\u001b[0m\u001b[90m   @\u001b[39m \u001b[90mBase\u001b[39m \u001b[90m\u001b[4mregex.jl:863\u001b[24m\u001b[39m\n\u001b[0m  ^(\u001b[91m::Float32\u001b[39m, ::Integer)\n\u001b[0m\u001b[90m   @\u001b[39m \u001b[90mBase\u001b[39m \u001b[90m\u001b[4mmath.jl:1277\u001b[24m\u001b[39m\n\u001b[0m  ...\n",
      "",
      "Stacktrace:",
      " [1] literal_pow",
      "   @ ./intfuncs.jl:351 [inlined]",
      " [2] f(x::Vector{Int64})",
      "   @ Main ./In[1]:1",
      " [3] top-level scope",
      "   @ In[11]:1"
     ]
    }
   ],
   "source": [
    "f(b)"
   ]
  },
  {
   "cell_type": "code",
   "execution_count": 12,
   "id": "ebb98a80",
   "metadata": {},
   "outputs": [
    {
     "data": {
      "text/plain": [
       "5-element Vector{Int64}:\n",
       " -6\n",
       "  0\n",
       "  0\n",
       "  0\n",
       "  6"
      ]
     },
     "execution_count": 12,
     "metadata": {},
     "output_type": "execute_result"
    }
   ],
   "source": [
    "map(f, b)"
   ]
  },
  {
   "cell_type": "code",
   "execution_count": 13,
   "id": "b3670b19",
   "metadata": {},
   "outputs": [
    {
     "data": {
      "text/plain": [
       "5-element Vector{Int64}:\n",
       " -6\n",
       "  0\n",
       "  0\n",
       "  0\n",
       "  6"
      ]
     },
     "execution_count": 13,
     "metadata": {},
     "output_type": "execute_result"
    }
   ],
   "source": [
    "f.(b)"
   ]
  },
  {
   "cell_type": "code",
   "execution_count": 14,
   "id": "40c07def",
   "metadata": {},
   "outputs": [
    {
     "data": {
      "text/plain": [
       "5-element Vector{Float64}:\n",
       " -0.25635265427953985\n",
       " -5.104170583125122\n",
       " -1.3275678152545365\n",
       " -0.5472056605021854\n",
       "  6.196816407472394"
      ]
     },
     "execution_count": 14,
     "metadata": {},
     "output_type": "execute_result"
    }
   ],
   "source": [
    "using LinearAlgebra\n",
    "\n",
    "A \\ b"
   ]
  },
  {
   "cell_type": "code",
   "execution_count": 19,
   "id": "fc0eb059",
   "metadata": {},
   "outputs": [
    {
     "data": {
      "text/plain": [
       "5-element Vector{Float64}:\n",
       " -0.2563526542795431\n",
       " -5.104170583125128\n",
       " -1.3275678152545347\n",
       " -0.5472056605021893\n",
       "  6.196816407472404"
      ]
     },
     "execution_count": 19,
     "metadata": {},
     "output_type": "execute_result"
    }
   ],
   "source": [
    "Q, R = qr(A)\n",
    "(inv(factorize(R))Q') * b"
   ]
  },
  {
   "cell_type": "code",
   "execution_count": 20,
   "id": "191445dd",
   "metadata": {},
   "outputs": [
    {
     "data": {
      "text/plain": [
       "5-element Vector{Float64}:\n",
       " -0.2563526542795447\n",
       " -5.104170583125131\n",
       " -1.3275678152545363\n",
       " -0.5472056605021862\n",
       "  6.196816407472406"
      ]
     },
     "execution_count": 20,
     "metadata": {},
     "output_type": "execute_result"
    }
   ],
   "source": [
    "U, S, V = svd(A)\n",
    "V * Diagonal(1 ./ S) * U' * b"
   ]
  },
  {
   "cell_type": "code",
   "execution_count": 21,
   "id": "4141237a",
   "metadata": {},
   "outputs": [
    {
     "data": {
      "text/plain": [
       "5×5 SparseMatrixCSC{Int64, Int64} with 10 stored entries:\n",
       "  1  ⋅  -3  -2   7\n",
       "  ⋅  5   ⋅   ⋅   ⋅\n",
       " -2  ⋅  -1   ⋅   ⋅\n",
       " -4  ⋅   ⋅   1   ⋅\n",
       "  ⋅  ⋅   ⋅   ⋅  -1"
      ]
     },
     "execution_count": 21,
     "metadata": {},
     "output_type": "execute_result"
    }
   ],
   "source": [
    "using SparseArrays\n",
    "\n",
    "rows = [1,3,4,2,1,3,1,4,1,5]\n",
    "cols = [1,1,1,2,3,3,4,4,5,5]\n",
    "vals = [1,-2,-4,5,-3,-1,-2,1,7,-1]\n",
    "\n",
    "A = sparse(rows, cols, vals, 5, 5)"
   ]
  },
  {
   "cell_type": "code",
   "execution_count": 22,
   "id": "10e5eb85",
   "metadata": {},
   "outputs": [
    {
     "data": {
      "text/plain": [
       "5-element Vector{Int64}:\n",
       " 19\n",
       " 10\n",
       " -5\n",
       "  0\n",
       " -5"
      ]
     },
     "execution_count": 22,
     "metadata": {},
     "output_type": "execute_result"
    }
   ],
   "source": [
    "b = collect(1:5)\n",
    "\n",
    "A * b"
   ]
  },
  {
   "cell_type": "code",
   "execution_count": 23,
   "id": "ffb976bb",
   "metadata": {},
   "outputs": [
    {
     "data": {
      "text/plain": [
       "5×5 Matrix{Float64}:\n",
       " 1.0        1.0        1.0       1.0       1.0\n",
       " 0.0782003  0.0849043  0.527541  0.724058  0.746632\n",
       " 0.484388   0.116351   0.841016  0.382058  0.322394\n",
       " 0.32082    0.161081   0.589138  0.846281  0.582013\n",
       " 0.28158    0.367238   0.748825  0.523316  0.44398"
      ]
     },
     "execution_count": 23,
     "metadata": {},
     "output_type": "execute_result"
    }
   ],
   "source": [
    "vcat(ones(5)', rand(4,5))"
   ]
  },
  {
   "cell_type": "code",
   "execution_count": 24,
   "id": "30a3a0fe",
   "metadata": {},
   "outputs": [
    {
     "data": {
      "text/plain": [
       "6-element Vector{Float64}:\n",
       " 1.0\n",
       " 0.1\n",
       " 0.2\n",
       " 0.3\n",
       " 0.4\n",
       " 0.5"
      ]
     },
     "execution_count": 24,
     "metadata": {},
     "output_type": "execute_result"
    }
   ],
   "source": [
    "using Random\n",
    "\n",
    "function generate_data( rng, β; num_samples = 100, noise = 0.01)\n",
    "\n",
    "    num_features = length(β) - 1\n",
    "    x = vcat(ones(num_samples)', randn(rng, (num_features, num_samples)))  # création des variables explicatives\n",
    "    y =  x' * β .+ noise .* randn(rng, num_samples)\n",
    "\n",
    "    return x, y\n",
    "\n",
    "end\n",
    "\n",
    "rng = Xoshiro(1234)\n",
    "\n",
    "weights = [0.1, 0.2, 0.3, 0.4, 0.5 ]\n",
    "bias = 1.0\n",
    "β = [bias, weights...]"
   ]
  },
  {
   "cell_type": "code",
   "execution_count": 25,
   "id": "c219f7f6",
   "metadata": {},
   "outputs": [
    {
     "data": {
      "text/plain": [
       "([1.0 1.0 … 1.0 1.0; 0.9706563288552144 -1.445177115286233 … 0.6785478622508077 -0.2702750330391049; … ; -0.03280312924463938 0.759804020007466 … 0.4207068461244445 -1.2139401711703544; -0.6007922233555612 -0.8814369061964817 … -0.31934708892587327 1.0914985820684815], [0.857367129020362, 1.7054712475117926, 2.051575125931088, 0.07098096740491859, 0.41553055093608615, 1.6969921297327404, 0.4297595204119519, -0.12530952219770528, 0.2788086540031869, 1.822435013919742  …  1.538820217823834, 1.6959881951955973, 0.7062436075061378, 0.7527966528477439, 0.35965658336778444, -0.012267018858788892, 0.19454649272747426, 1.091104244320309, 0.855704318606509, 1.2268078852377329])"
      ]
     },
     "execution_count": 25,
     "metadata": {},
     "output_type": "execute_result"
    }
   ],
   "source": [
    "x, y =  generate_data( rng, β)"
   ]
  },
  {
   "cell_type": "code",
   "execution_count": 33,
   "id": "22ce5550",
   "metadata": {},
   "outputs": [
    {
     "data": {
      "text/plain": [
       "6-element Vector{Float64}:\n",
       " 1.0005294314119706\n",
       " 0.10015509306034773\n",
       " 0.20123561883647267\n",
       " 0.29723226274216186\n",
       " 0.3979459932379165\n",
       " 0.4978432045167676"
      ]
     },
     "execution_count": 33,
     "metadata": {},
     "output_type": "execute_result"
    }
   ],
   "source": [
    "\n",
    "function linear_regression( x, y, β ; learning_rate = 0.01, iterations = 1000)\n",
    "        \n",
    "    num_features, num_samples  = size(x)\n",
    "    \n",
    "    for i in 1:iterations\n",
    "        \n",
    "        y_pred =  x' * β\n",
    "        dβ = x * ( y_pred .- y ) ./ num_samples\n",
    "        β .-= learning_rate .* dβ\n",
    "        \n",
    "    end\n",
    "    \n",
    "    return β     \n",
    "end\n",
    "\n",
    "β = ones(size(x,1))\n",
    "\n",
    "w  = linear_regression( x, y, β)"
   ]
  },
  {
   "cell_type": "code",
   "execution_count": 35,
   "id": "0e77204b",
   "metadata": {},
   "outputs": [
    {
     "data": {
      "text/plain": [
       "6-element Vector{Float32}:\n",
       " 1.0005294\n",
       " 0.10015513\n",
       " 0.20123564\n",
       " 0.29723227\n",
       " 0.39794597\n",
       " 0.49784324"
      ]
     },
     "execution_count": 35,
     "metadata": {},
     "output_type": "execute_result"
    }
   ],
   "source": [
    "β = ones(Float32, size(x,1))\n",
    "linear_regression( Float32.(x), Float32.(y), β)"
   ]
  },
  {
   "cell_type": "code",
   "execution_count": 38,
   "id": "d1f71caf",
   "metadata": {},
   "outputs": [
    {
     "data": {
      "text/plain": [
       "6-element CuArray{Float32, 1, CUDA.Mem.DeviceBuffer}:\n",
       " 1.0005294\n",
       " 0.10015514\n",
       " 0.20123562\n",
       " 0.29723227\n",
       " 0.39794597\n",
       " 0.49784324"
      ]
     },
     "execution_count": 38,
     "metadata": {},
     "output_type": "execute_result"
    }
   ],
   "source": [
    "using CUDA\n",
    "\n",
    "β = CUDA.ones(size(x,1))\n",
    "linear_regression(cu(x), cu(y), β)"
   ]
  },
  {
   "cell_type": "code",
   "execution_count": 41,
   "id": "d0d8032a",
   "metadata": {},
   "outputs": [
    {
     "data": {
      "text/plain": [
       "([1.0 1.0 … 1.0 1.0; -0.30833358989214027 1.125113065495088 … 0.6600793319099784 0.7071796852620895; … ; 1.4387649408348513 -0.05584818865532804 … -0.5297706927492861 0.08609293782140201; 0.9452286146307545 1.7577108475733658 … 0.939621612382447 0.9480153495810533], [0.2158834692680112, 0.8826899182403306, -5.745853927697969, 1.2991502254977525, 7.0036619515202405, -0.3914962990603192, 1.3370804766576336, 1.070594851646446, -0.5812122446289688, 5.9333051555747005  …  -5.58566918180413, 0.6747625438963386, -2.629359434027558, 1.7054620704038816, -3.6219909455885437, -8.57490014275458, -8.068133365084407, -2.94432324836263, -2.672558999301055, 5.069663215552615])"
      ]
     },
     "execution_count": 41,
     "metadata": {},
     "output_type": "execute_result"
    }
   ],
   "source": [
    "weights = rand(100)\n",
    "bias = 1.0\n",
    "β = [bias, weights...]\n",
    "x, y =  generate_data( rng, β, num_samples=100_000)"
   ]
  },
  {
   "cell_type": "code",
   "execution_count": 42,
   "id": "3efa8601",
   "metadata": {},
   "outputs": [
    {
     "name": "stdout",
     "output_type": "stream",
     "text": [
      "  5.859550 seconds (6.02 k allocations: 1.492 GiB, 3.15% gc time)\n"
     ]
    },
    {
     "data": {
      "text/plain": [
       "101-element Vector{Float64}:\n",
       " 1.0000372589757331\n",
       " 0.8987280568185765\n",
       " 0.5223563804068403\n",
       " 0.2837492506548321\n",
       " 0.005832835404175131\n",
       " 0.6257740827989775\n",
       " 0.955641692249159\n",
       " 0.1654664532833403\n",
       " 0.39410323763772254\n",
       " 0.5100995929363635\n",
       " 0.18379253944388974\n",
       " 0.895464972152817\n",
       " 0.34731397097071093\n",
       " ⋮\n",
       " 0.5010492235033828\n",
       " 0.24947530296829323\n",
       " 0.37691297901778614\n",
       " 0.5923716644490593\n",
       " 0.233181655390196\n",
       " 0.5463006751429789\n",
       " 0.7589882653255786\n",
       " 0.7945507171109977\n",
       " 0.04767317704037133\n",
       " 0.14656566062553733\n",
       " 0.724466241790347\n",
       " 0.4282636712217966"
      ]
     },
     "execution_count": 42,
     "metadata": {},
     "output_type": "execute_result"
    }
   ],
   "source": [
    "@time linear_regression( x, y, β)"
   ]
  },
  {
   "cell_type": "code",
   "execution_count": 43,
   "id": "245e296d",
   "metadata": {},
   "outputs": [
    {
     "name": "stdout",
     "output_type": "stream",
     "text": [
      "  0.216315 seconds (101.42 k CPU allocations: 44.434 MiB, 4.38% gc time) (4.00 k GPU allocations: 802.620 MiB, 6.15% memmgmt time)\n"
     ]
    },
    {
     "data": {
      "text/plain": [
       "101-element CuArray{Float32, 1, CUDA.Mem.DeviceBuffer}:\n",
       " 1.0000436\n",
       " 0.8987305\n",
       " 0.52238905\n",
       " 0.28378525\n",
       " 0.0058775065\n",
       " 0.6257856\n",
       " 0.9556502\n",
       " 0.16550796\n",
       " 0.3941281\n",
       " 0.51010275\n",
       " 0.18382934\n",
       " 0.89546114\n",
       " 0.34734514\n",
       " ⋮\n",
       " 0.50107807\n",
       " 0.2495273\n",
       " 0.37693718\n",
       " 0.59239376\n",
       " 0.23321615\n",
       " 0.546349\n",
       " 0.75901055\n",
       " 0.79455763\n",
       " 0.047707077\n",
       " 0.14660569\n",
       " 0.72447324\n",
       " 0.4282955"
      ]
     },
     "execution_count": 43,
     "metadata": {},
     "output_type": "execute_result"
    }
   ],
   "source": [
    "β = CUDA.ones(size(x,1))\n",
    "CUDA.@time linear_regression(cu(x), cu(y), β)"
   ]
  },
  {
   "cell_type": "code",
   "execution_count": 44,
   "id": "9b5bd46c",
   "metadata": {},
   "outputs": [
    {
     "data": {
      "text/plain": [
       "101-element Vector{Float64}:\n",
       " 0.9999967393865732\n",
       " 0.8986758280848707\n",
       " 0.5223264186320108\n",
       " 0.28373227074515583\n",
       " 0.005840680251106454\n",
       " 0.625752156041415\n",
       " 0.9555784413956435\n",
       " 0.16546367664123368\n",
       " 0.39408708886581456\n",
       " 0.5100797427279238\n",
       " 0.1837806132275803\n",
       " 0.895425479249716\n",
       " 0.34729921915481493\n",
       " ⋮\n",
       " 0.5010212406650502\n",
       " 0.24945266936622507\n",
       " 0.37689538494409897\n",
       " 0.5923492117280896\n",
       " 0.23316980809288845\n",
       " 0.5462788373888692\n",
       " 0.7589420324699844\n",
       " 0.7945042821730981\n",
       " 0.04767596192972461\n",
       " 0.14656779196131003\n",
       " 0.7244325478253487\n",
       " 0.42823621760798924"
      ]
     },
     "execution_count": 44,
     "metadata": {},
     "output_type": "execute_result"
    }
   ],
   "source": [
    "struct LinearRegression{T}\n",
    "\n",
    "   learning_rate :: T\n",
    "   iterations :: Int \n",
    "   β :: Vector{T}\n",
    "    \n",
    "   function LinearRegression( x :: Matrix{T}, y :: Vector{T}; learning_rate = 0.01, iterations = 1000) where T\n",
    "        \n",
    "        num_features, num_samples  = size(x)\n",
    "        β = Vector{T}(undef, num_features)\n",
    "        linear_regression(x, y, β; learning_rate = learning_rate, iterations = iterations)\n",
    "        \n",
    "        new{T}( learning_rate, iterations, β)\n",
    "        \n",
    "    end\n",
    "        \n",
    "end\n",
    "\n",
    "\n",
    "model = LinearRegression(x, y)\n",
    "\n",
    "model.β"
   ]
  },
  {
   "cell_type": "code",
   "execution_count": 47,
   "id": "fcd0c5e9",
   "metadata": {},
   "outputs": [
    {
     "data": {
      "text/plain": [
       "Linear Regression\n",
       "=================\n",
       "β : [1.0, 0.899, 0.522, 0.284, 0.006, 0.626, 0.956, 0.165, 0.394, 0.51, 0.184, 0.895, 0.347, 0.348, 0.331, 0.14, 0.905, 0.873, 0.588, 0.332, 0.709, 0.019, 0.349, 0.464, 0.807, 0.074, 0.176, 0.218, 0.013, 0.322, 0.892, 0.507, 0.921, 0.36, 0.006, 0.196, 0.148, 0.272, 0.006, 0.003, 0.064, 0.506, 0.124, 0.155, 0.244, 0.782, 0.485, 0.688, 0.616, 0.107, 0.359, 0.365, 0.437, 0.624, 0.075, 0.146, 0.644, 0.71, 0.517, 0.025, 0.796, 0.346, 0.792, 0.019, 0.884, 0.081, 0.195, 0.703, 0.499, 0.912, 0.519, 0.116, 0.054, 0.348, 0.158, 0.959, 0.08, 0.978, 0.534, 0.879, 0.835, 0.172, 0.211, 0.221, 0.659, 0.802, 0.132, 0.227, 0.276, 0.501, 0.249, 0.377, 0.592, 0.233, 0.546, 0.759, 0.795, 0.048, 0.147, 0.724, 0.428]\n"
      ]
     },
     "execution_count": 47,
     "metadata": {},
     "output_type": "execute_result"
    }
   ],
   "source": [
    "predict(model :: LinearRegression, x) = x' * model.β\n",
    "\n",
    "function Base.show(io :: IO, model :: LinearRegression) \n",
    "    println(io, \"Linear Regression\")\n",
    "    println(io, \"=================\")\n",
    "    println(io, \"β : $(round.(model.β, digits=3))\")\n",
    "end\n",
    "\n",
    "model"
   ]
  },
  {
   "cell_type": "code",
   "execution_count": 48,
   "id": "40b3170c",
   "metadata": {},
   "outputs": [
    {
     "data": {
      "text/plain": [
       "Linear Regression\n",
       "=================\n",
       "β : Float32[1.0, 0.899, 0.522, 0.284, 0.006, 0.626, 0.956, 0.165, 0.394, 0.51, 0.184, 0.895, 0.347, 0.348, 0.331, 0.14, 0.905, 0.873, 0.588, 0.332, 0.709, 0.019, 0.349, 0.464, 0.807, 0.074, 0.176, 0.218, 0.013, 0.322, 0.892, 0.507, 0.921, 0.36, 0.006, 0.196, 0.148, 0.272, 0.006, 0.003, 0.064, 0.506, 0.124, 0.155, 0.244, 0.782, 0.485, 0.688, 0.616, 0.107, 0.359, 0.365, 0.437, 0.624, 0.075, 0.146, 0.644, 0.71, 0.517, 0.025, 0.796, 0.346, 0.792, 0.019, 0.884, 0.081, 0.195, 0.703, 0.499, 0.912, 0.519, 0.116, 0.054, 0.348, 0.158, 0.959, 0.08, 0.978, 0.534, 0.879, 0.835, 0.172, 0.211, 0.221, 0.659, 0.802, 0.132, 0.227, 0.276, 0.501, 0.249, 0.377, 0.592, 0.233, 0.546, 0.759, 0.795, 0.048, 0.147, 0.724, 0.428]\n"
      ]
     },
     "execution_count": 48,
     "metadata": {},
     "output_type": "execute_result"
    }
   ],
   "source": [
    "model_f0 = LinearRegression(Float32.(x), Float32.(y))"
   ]
  },
  {
   "cell_type": "code",
   "execution_count": 49,
   "id": "72945c43",
   "metadata": {},
   "outputs": [
    {
     "data": {
      "text/plain": [
       "101-element Vector{Float32}:\n",
       " 0.9999967\n",
       " 0.89867586\n",
       " 0.52232635\n",
       " 0.28373227\n",
       " 0.0058406997\n",
       " 0.62575203\n",
       " 0.9555785\n",
       " 0.16546361\n",
       " 0.3940871\n",
       " 0.5100797\n",
       " 0.1837806\n",
       " 0.89542544\n",
       " 0.34729916\n",
       " ⋮\n",
       " 0.50102127\n",
       " 0.2494526\n",
       " 0.37689537\n",
       " 0.5923491\n",
       " 0.2331698\n",
       " 0.54627883\n",
       " 0.75894207\n",
       " 0.79450434\n",
       " 0.047675937\n",
       " 0.14656745\n",
       " 0.7244326\n",
       " 0.4282362"
      ]
     },
     "execution_count": 49,
     "metadata": {},
     "output_type": "execute_result"
    }
   ],
   "source": [
    "model_f0.β"
   ]
  },
  {
   "cell_type": "code",
   "execution_count": 50,
   "id": "25a24bde",
   "metadata": {},
   "outputs": [
    {
     "ename": "LoadError",
     "evalue": "MethodError: no method matching LinearRegression(::CuArray{Float32, 2, CUDA.Mem.DeviceBuffer}, ::CuArray{Float32, 1, CUDA.Mem.DeviceBuffer})",
     "output_type": "error",
     "traceback": [
      "MethodError: no method matching LinearRegression(::CuArray{Float32, 2, CUDA.Mem.DeviceBuffer}, ::CuArray{Float32, 1, CUDA.Mem.DeviceBuffer})",
      "",
      "Stacktrace:",
      " [1] top-level scope",
      "   @ In[50]:1"
     ]
    }
   ],
   "source": [
    "model_gpu = LinearRegression(cu(x), cu(y))"
   ]
  },
  {
   "cell_type": "code",
   "execution_count": null,
   "id": "9b3a75e2",
   "metadata": {},
   "outputs": [],
   "source": []
  },
  {
   "cell_type": "code",
   "execution_count": null,
   "id": "b207f720",
   "metadata": {},
   "outputs": [],
   "source": []
  }
 ],
 "metadata": {
  "@webio": {
   "lastCommId": null,
   "lastKernelId": null
  },
  "kernelspec": {
   "display_name": "Julia 1.10.0",
   "language": "julia",
   "name": "julia-1.10"
  },
  "language_info": {
   "file_extension": ".jl",
   "mimetype": "application/julia",
   "name": "julia",
   "version": "1.10.0"
  }
 },
 "nbformat": 4,
 "nbformat_minor": 5
}
